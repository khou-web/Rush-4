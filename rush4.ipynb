{
 "cells": [
  {
   "cell_type": "code",
   "execution_count": 8,
   "id": "d7f3b17e",
   "metadata": {},
   "outputs": [
    {
     "name": "stdout",
     "output_type": "stream",
     "text": [
      "Index(['ID', 'Year_Birth', 'Education', 'Marital_Status', 'Income', 'Kidhome',\n",
      "       'Teenhome', 'Dt_Customer', 'Recency', 'MntWines', 'MntFruits',\n",
      "       'MntMeatProducts', 'MntFishProducts', 'MntSweetProducts',\n",
      "       'MntGoldProds', 'NumDealsPurchases', 'NumWebPurchases',\n",
      "       'NumCatalogPurchases', 'NumStorePurchases', 'NumWebVisitsMonth',\n",
      "       'AcceptedCmp1', 'AcceptedCmp2', 'AcceptedCmp3', 'AcceptedCmp4',\n",
      "       'AcceptedCmp5', 'Complain', 'Z_CostContact', 'Z_Revenue', 'Response',\n",
      "       'age', 'spent', 'children', 'family_size', 'living_with', 'is_parent',\n",
      "       'education2', 'customer_for'],\n",
      "      dtype='object')\n",
      "0\n",
      "       Variable  Moyenne  Médiane  Minimum  Maximum\n",
      "0           age    56.10     55.0       29       85\n",
      "1         spent   605.74    396.0        5     2525\n",
      "2   family_size     2.60      3.0        1        5\n",
      "3  customer_for   353.79    356.0        0      699\n"
     ]
    }
   ],
   "source": [
    "import pandas as pd\n",
    "from sklearn.impute import SimpleImputer\n",
    "\n",
    "# Charger ton fichier Excel\n",
    "df = pd.read_excel(\"Market.xlsx\", sheet_name=\"Market\")\n",
    "print(df.columns)\n",
    "\n",
    "imputer = SimpleImputer(strategy='mean')\n",
    "df[['Income']] = imputer.fit_transform(df[['Income']])\n",
    "\n",
    "print(df['Income'].isnull().sum())\n",
    "df.to_excel(\"Market_filled.xlsx\", index=False)\n",
    "\n",
    "variables = ['age', 'spent', 'family_size', 'customer_for']\n",
    "\n",
    "# Créer un dictionnaire pour stocker les statistiques\n",
    "stats = {\n",
    "    'Variable': [],\n",
    "    'Moyenne': [],\n",
    "    'Médiane': [],\n",
    "    'Minimum': [],\n",
    "    'Maximum': []\n",
    "}\n",
    "\n",
    "# Calculer les statistiques pour chaque variable\n",
    "for var in variables:\n",
    "    stats['Variable'].append(var)\n",
    "    stats['Moyenne'].append(round(df[var].mean(), 2))\n",
    "    stats['Médiane'].append(round(df[var].median(), 2))\n",
    "    stats['Minimum'].append(round(df[var].min(), 2))\n",
    "    stats['Maximum'].append(round(df[var].max(), 2))\n",
    "\n",
    "# Convertir en DataFrame pour afficher proprement\n",
    "summary_df = pd.DataFrame(stats)\n",
    "\n",
    "# Afficher le tableau final\n",
    "print(summary_df)\n",
    "\n",
    "# Sauvegarder le tableau dans un nouveau fichier Excel\n",
    "summary_df.to_excel(\"Tableau_Analyse_Descriptive.xlsx\", index=False)\n",
    "\n"
   ]
  },
  {
   "cell_type": "markdown",
   "id": "96eb57d8",
   "metadata": {},
   "source": []
  }
 ],
 "metadata": {
  "kernelspec": {
   "display_name": "Python 3",
   "language": "python",
   "name": "python3"
  },
  "language_info": {
   "codemirror_mode": {
    "name": "ipython",
    "version": 3
   },
   "file_extension": ".py",
   "mimetype": "text/x-python",
   "name": "python",
   "nbconvert_exporter": "python",
   "pygments_lexer": "ipython3",
   "version": "3.13.9"
  }
 },
 "nbformat": 4,
 "nbformat_minor": 5
}
